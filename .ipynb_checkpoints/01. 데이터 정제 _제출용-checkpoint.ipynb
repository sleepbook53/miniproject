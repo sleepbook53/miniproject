{
 "cells": [
  {
   "cell_type": "code",
   "execution_count": 3,
   "id": "63d91242",
   "metadata": {},
   "outputs": [],
   "source": [
    "# 환경조성\n",
    "#import\n",
    "import pandas as pd\n",
    "import numpy as np\n"
   ]
  },
  {
   "cell_type": "markdown",
   "id": "8f2babdd",
   "metadata": {},
   "source": [
    "# 한국 관광공사 마이 데이터랩 데이터 정지"
   ]
  },
  {
   "cell_type": "markdown",
   "id": "34430c45",
   "metadata": {},
   "source": [
    "## 데이터 불러오기"
   ]
  },
  {
   "cell_type": "code",
   "execution_count": 4,
   "id": "d5363724",
   "metadata": {},
   "outputs": [],
   "source": [
    "# 데이터 불러오기\n",
    "#데이터 업로드\n",
    "df = pd.read_excel(\"./data/culdata.xlsx\")"
   ]
  },
  {
   "cell_type": "markdown",
   "id": "9169a11f",
   "metadata": {},
   "source": [
    "## 활용할 데이터만 정제\n",
    "문화 향유 시설이란 명목으로 임의로 정의한 공연/행사, 역사관광지, 휴양관광지, 문화시설"
   ]
  },
  {
   "cell_type": "code",
   "execution_count": null,
   "id": "733f9a19",
   "metadata": {},
   "outputs": [],
   "source": [
    "#활용할 데이터만 정제\n",
    "df1 = df_Gu[(df_Gu[\"중분류 카테고리\"]== '공연/행사')  |\\\n",
    "    (df_Gu[\"중분류 카테고리\"]== '역사관광지') | \\\n",
    "    (df_Gu[\"중분류 카테고리\"] == '휴양관광지') | \\\n",
    "    (df_Gu[\"중분류 카테고리\"] == '문화시설')].reset_index(drop = True).drop([\"순위\"], axis =1)\n",
    "\n",
    "df1"
   ]
  },
  {
   "cell_type": "code",
   "execution_count": null,
   "id": "dd326f2b",
   "metadata": {},
   "outputs": [],
   "source": []
  }
 ],
 "metadata": {
  "kernelspec": {
   "display_name": "Python 3 (ipykernel)",
   "language": "python",
   "name": "python3"
  },
  "language_info": {
   "codemirror_mode": {
    "name": "ipython",
    "version": 3
   },
   "file_extension": ".py",
   "mimetype": "text/x-python",
   "name": "python",
   "nbconvert_exporter": "python",
   "pygments_lexer": "ipython3",
   "version": "3.9.7"
  }
 },
 "nbformat": 4,
 "nbformat_minor": 5
}
